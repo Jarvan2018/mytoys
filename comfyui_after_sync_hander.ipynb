{
 "cells": [
  {
   "cell_type": "markdown",
   "metadata": {},
   "source": [
    "# Google Drive 同步记录\n",
    "```\n",
    "google 目录\n",
    "/VastAI_LFS_V5\n",
    "Vast.ai 目录\n",
    "/workspace/MyGoogleDrive/\n",
    "```"
   ]
  },
  {
   "cell_type": "markdown",
   "metadata": {},
   "source": [
    "# 同步模型配置"
   ]
  },
  {
   "cell_type": "code",
   "execution_count": null,
   "metadata": {
    "vscode": {
     "languageId": "plaintext"
    }
   },
   "outputs": [],
   "source": [
    "!cp extra_model_paths.yaml /workspace/ComfyUI/"
   ]
  },
  {
   "cell_type": "markdown",
   "metadata": {},
   "source": [
    "# 创建 Animatediff 符号链接/移动文件"
   ]
  },
  {
   "cell_type": "code",
   "execution_count": null,
   "metadata": {},
   "outputs": [],
   "source": [
    "import os\n",
    "\n",
    "source_dir = '/workspace/MyGoogleDrive/custom_nodes_res/animatediff'\n",
    "target_dir = '/workspace/ComfyUI/custom_nodes/ComfyUI-AnimateDiff/models'\n",
    "\n",
    "for file in os.listdir(source_dir):\n",
    "    source_path = os.path.join(source_dir, file)\n",
    "    target_path = os.path.join(target_dir, file)\n",
    "    print(f\"Will created symlink: {target_path} -> {source_path}\")\n",
    "    # os.symlink(source_path, target_path)\n",
    "    # print(f\"Created symlink: {target_path} -> {source_path}\")\n",
    "\n",
    "\n",
    "source_motion_lora_dir = '/workspace/MyGoogleDrive/custom_nodes_res/animatediff/lora'\n",
    "target_motion_lora_dir = '/workspace/ComfyUI/custom_nodes/ComfyUI-AnimateDiff/motion-lora'\n",
    "\n",
    "\n",
    "for file in os.listdir(source_motion_lora_dir):\n",
    "    source_path = os.path.join(source_motion_lora_dir, file)\n",
    "    target_path = os.path.join(target_motion_lora_dir, file)\n",
    "    print(f\"Will created lora symlink: {target_path} -> {source_path}\")\n",
    "    # os.symlink(source_path, target_path)\n",
    "    # print(f\"Created symlink: {target_path} -> {source_path}\")\n",
    "\n",
    "\n",
    "# !mv /workspace/MyGoogleDrive/custom_nodes_res/animatediff/*/ /workspace/ComfyUI/custom_nodes/ComfyUI-AnimateDiff/models/\n"
   ]
  },
  {
   "cell_type": "markdown",
   "metadata": {},
   "source": [
    "# IP-Adapter所需文件移动"
   ]
  },
  {
   "cell_type": "code",
   "execution_count": null,
   "metadata": {},
   "outputs": [],
   "source": [
    "# clip_vision\n",
    "!mv /workspace/MyGoogleDrive/custom_nodes_res/IP-Adapter/clip_vision/*/ /workspace/ComfyUI/models/clip_vision/\n",
    "\n",
    "# models\n",
    "!mv /workspace/MyGoogleDrive/custom_nodes_res/IP-Adapter/res/*/ /workspace/ComfyUI/custom_nodes/ComfyUI_IPAdapter_plus/models/\n"
   ]
  }
 ],
 "metadata": {
  "language_info": {
   "name": "python"
  }
 },
 "nbformat": 4,
 "nbformat_minor": 2
}
