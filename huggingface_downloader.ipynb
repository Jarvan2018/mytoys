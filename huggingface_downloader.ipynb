{
 "cells": [
  {
   "cell_type": "markdown",
   "metadata": {},
   "source": [
    "# 安装依赖"
   ]
  },
  {
   "cell_type": "code",
   "execution_count": null,
   "id": "3c37282f-e9de-43d7-8fa7-d2e6290730f1",
   "metadata": {},
   "outputs": [],
   "source": [
    "!pip install diffusers==0.4.0"
   ]
  },
  {
   "cell_type": "markdown",
   "metadata": {},
   "source": [
    "# login"
   ]
  },
  {
   "cell_type": "code",
   "execution_count": null,
   "id": "3e06e1dc-339b-4d58-9875-c7a646916e46",
   "metadata": {},
   "outputs": [],
   "source": [
    "# 暂时不需要登陆\n",
    "from huggingface_hub import notebook_login\n",
    "notebook_login()"
   ]
  },
  {
   "cell_type": "markdown",
   "metadata": {},
   "source": [
    "# 下载"
   ]
  },
  {
   "cell_type": "code",
   "execution_count": null,
   "metadata": {},
   "outputs": [],
   "source": [
    "IS_USE_GOOGLE_DRIVE = 1\n",
    "\n",
    "CACHE_DIR = \"/workspace/HuggingFaceCache\"\n",
    "\n",
    "if IS_USE_GOOGLE_DRIVE:\n",
    "    CACHE_DIR = \"drive/MyDrive/VastAI_LFS_V2\"\n",
    "    from google.colab import drive\n",
    "    drive.mount('/content/drive', force_remount=True)\n",
    "\n"
   ]
  },
  {
   "cell_type": "markdown",
   "metadata": {},
   "source": [
    "### checkpoints"
   ]
  },
  {
   "cell_type": "code",
   "execution_count": null,
   "metadata": {},
   "outputs": [],
   "source": [
    "if IS_USE_GOOGLE_DRIVE == 0:\n",
    "    checkpoints_dir =  \"/workspace/ComfyUI/models/checkpoints\""
   ]
  },
  {
   "cell_type": "markdown",
   "metadata": {},
   "source": [
    "#### SD1.5"
   ]
  },
  {
   "cell_type": "code",
   "execution_count": null,
   "metadata": {},
   "outputs": [],
   "source": [
    "REPO_ID = \"gsdf/Counterfeit-V3.0\" #@param {type:\"string\"}\n",
    "ALLOW_PATTERNS = [ \"*fp16.safetensors\" ]\n",
    "LOCAL_DIR = None\n",
    "if IS_USE_GOOGLE_DRIVE == 0:\n",
    "    LOCAL_DIR = checkpoints_dir + \"/sd1.5\"\n",
    "\n",
    "from huggingface_hub import snapshot_download\n",
    "filePath = snapshot_download(repo_id=REPO_ID, allow_patterns=ALLOW_PATTERNS, cache_dir=CACHE_DIR, local_dir=LOCAL_DIR)\n",
    "print(filePath)"
   ]
  },
  {
   "cell_type": "markdown",
   "metadata": {},
   "source": [
    "### SDXL"
   ]
  },
  {
   "cell_type": "code",
   "execution_count": null,
   "metadata": {},
   "outputs": [],
   "source": [
    "REPO_ID = \"gsdf/CounterfeitXL\" #@param {type:\"string\"}\n",
    "ALLOW_PATTERNS = [ \"CounterfeitXL-V1.0.safetensors\" ]\n",
    "\n",
    "LOCAL_DIR = None\n",
    "if IS_USE_GOOGLE_DRIVE == 0:\n",
    "    LOCAL_DIR = checkpoints_dir + \"/sdxl\"\n",
    "\n",
    "from huggingface_hub import snapshot_download\n",
    "filePath = snapshot_download(repo_id=REPO_ID, allow_patterns=ALLOW_PATTERNS, cache_dir=CACHE_DIR, local_dir=LOCAL_DIR)\n",
    "print(filePath)"
   ]
  },
  {
   "cell_type": "markdown",
   "metadata": {},
   "source": [
    "### T2I-Adapter"
   ]
  },
  {
   "cell_type": "code",
   "execution_count": null,
   "id": "b05bd473-99fc-4338-a72c-34300caed2f8",
   "metadata": {
    "scrolled": true
   },
   "outputs": [],
   "source": [
    "REPO_ID = \"TencentARC/T2I-Adapter\" #@param {type:\"string\"}\n",
    "ALLOW_PATTERNS = [ \"*.safetensors\" , \"*.pth\" ]\n",
    "LOCAL_DIR = None\n",
    "if IS_USE_GOOGLE_DRIVE == 0:\n",
    "    LOCAL_DIR = \"/workspace/ComfyUI/models/controlnet/T2I-Adapter\"\n",
    "\n",
    "from huggingface_hub import snapshot_download\n",
    "filePath = snapshot_download(repo_id=REPO_ID, allow_patterns=ALLOW_PATTERNS, cache_dir=CACHE_DIR, local_dir=LOCAL_DIR)\n",
    "print(filePath)"
   ]
  },
  {
   "cell_type": "markdown",
   "metadata": {},
   "source": [
    "### controlnet"
   ]
  },
  {
   "cell_type": "code",
   "execution_count": null,
   "id": "8b3c5595-6a53-4b61-b9bf-c77fe1ec2e1d",
   "metadata": {},
   "outputs": [],
   "source": [
    "REPO_ID = \"lllyasviel/sd_control_collection\" #@param {type:\"string\"}\n",
    "ALLOW_PATTERNS = [ \"*.safetensors\" , \"*.pth\" ]\n",
    "\n",
    "LOCAL_DIR = None\n",
    "if IS_USE_GOOGLE_DRIVE == 0:\n",
    "    LOCAL_DIR = \"/workspace/ComfyUI/models/controlnet/lllyasviel\"\n",
    "\n",
    "from huggingface_hub import snapshot_download\n",
    "filePath = snapshot_download(repo_id=REPO_ID, allow_patterns=ALLOW_PATTERNS, cache_dir=CACHE_DIR, local_dir=LOCAL_DIR)\n",
    "print(filePath)"
   ]
  },
  {
   "cell_type": "markdown",
   "metadata": {},
   "source": [
    "### animatediff"
   ]
  },
  {
   "cell_type": "code",
   "execution_count": null,
   "id": "cd31c83f-e01e-444f-803f-50c6b1ead09e",
   "metadata": {},
   "outputs": [],
   "source": [
    "REPO_ID = \"guoyww/animatediff\" #@param {type:\"string\"}\n",
    "ALLOW_PATTERNS = [ \"*.safetensors\" , \"*.pth\" , \"*.ckpt\"]\n",
    "\n",
    "LOCAL_DIR = None\n",
    "if IS_USE_GOOGLE_DRIVE == 0:\n",
    "    LOCAL_DIR = \"/workspace/ComfyUI/custom_nodes/ComfyUI-AnimateDiff/models/guoyww\"\n",
    "\n",
    "from huggingface_hub import snapshot_download\n",
    "filePath = snapshot_download(repo_id=REPO_ID, allow_patterns=ALLOW_PATTERNS, cache_dir=CACHE_DIR, local_dir=LOCAL_DIR)\n",
    "print(filePath)"
   ]
  },
  {
   "cell_type": "code",
   "execution_count": null,
   "id": "ad056499-9a81-4e8d-ac82-21d76f14017d",
   "metadata": {},
   "outputs": [],
   "source": [
    "REPO_ID = \"CiaraRowles/TemporalDiff\" #@param {type:\"string\"}\n",
    "ALLOW_PATTERNS = [ \"*.safetensors\"]\n",
    "\n",
    "LOCAL_DIR = None\n",
    "if IS_USE_GOOGLE_DRIVE == 0:\n",
    "    LOCAL_DIR = \"/workspace/ComfyUI/custom_nodes/ComfyUI-AnimateDiff/models/CiaraRowles\"\n",
    "\n",
    "from huggingface_hub import snapshot_download\n",
    "filePath = snapshot_download(repo_id=REPO_ID, allow_patterns=ALLOW_PATTERNS, cache_dir=CACHE_DIR, local_dir=LOCAL_DIR)\n",
    "print(filePath)"
   ]
  },
  {
   "cell_type": "markdown",
   "metadata": {},
   "source": [
    "# embeddings"
   ]
  },
  {
   "cell_type": "code",
   "execution_count": null,
   "metadata": {},
   "outputs": [],
   "source": [
    "if IS_USE_GOOGLE_DRIVE == 0:\n",
    "    embeddings_dir =  \"/workspace/ComfyUI/models/embeddings\""
   ]
  },
  {
   "cell_type": "markdown",
   "metadata": {},
   "source": [
    "#### SD1.5"
   ]
  },
  {
   "cell_type": "code",
   "execution_count": null,
   "metadata": {},
   "outputs": [],
   "source": [
    "REPO_ID = \"ffxvs/negative-prompts-pack\" #@param {type:\"string\"}\n",
    "ALLOW_PATTERNS = [ \"*.pt\", \"*.safetensors\" ]\n",
    "LOCAL_DIR = None\n",
    "if IS_USE_GOOGLE_DRIVE == 0:\n",
    "    LOCAL_DIR = embeddings_dir + \"/sd1.5\"\n",
    "\n",
    "from huggingface_hub import snapshot_download\n",
    "filePath = snapshot_download(repo_id=REPO_ID, allow_patterns=ALLOW_PATTERNS, cache_dir=CACHE_DIR, local_dir=LOCAL_DIR)\n",
    "print(filePath)"
   ]
  },
  {
   "cell_type": "markdown",
   "metadata": {},
   "source": [
    "# upscale_models"
   ]
  },
  {
   "cell_type": "code",
   "execution_count": null,
   "metadata": {},
   "outputs": [],
   "source": [
    "REPO_ID = \"lokCX/4x-Ultrasharp\" #@param {type:\"string\"}\n",
    "ALLOW_PATTERNS = [ \"*.pth\" ]\n",
    "LOCAL_DIR = None\n",
    "if IS_USE_GOOGLE_DRIVE == 0:\n",
    "    LOCAL_DIR = \"/workspace/ComfyUI/models/upscale_models\"\n",
    "\n",
    "from huggingface_hub import snapshot_download\n",
    "filePath = snapshot_download(repo_id=REPO_ID, allow_patterns=ALLOW_PATTERNS, cache_dir=CACHE_DIR, local_dir=LOCAL_DIR)\n",
    "print(filePath)"
   ]
  },
  {
   "cell_type": "markdown",
   "metadata": {},
   "source": [
    "# VAE"
   ]
  },
  {
   "cell_type": "code",
   "execution_count": null,
   "metadata": {},
   "outputs": [],
   "source": [
    "REPO_ID = \"stabilityai/sd-vae-ft-mse-original\" #@param {type:\"string\"}\n",
    "ALLOW_PATTERNS = [ \"*.safetensors\" ]\n",
    "LOCAL_DIR = None\n",
    "if IS_USE_GOOGLE_DRIVE == 0:\n",
    "    LOCAL_DIR = \"/workspace/ComfyUI/models/vae\"\n",
    "\n",
    "from huggingface_hub import snapshot_download\n",
    "filePath = snapshot_download(repo_id=REPO_ID, allow_patterns=ALLOW_PATTERNS, cache_dir=CACHE_DIR, local_dir=LOCAL_DIR)\n",
    "print(filePath)"
   ]
  },
  {
   "cell_type": "markdown",
   "metadata": {},
   "source": [
    "# IP-Adapter"
   ]
  },
  {
   "cell_type": "code",
   "execution_count": null,
   "metadata": {},
   "outputs": [],
   "source": [
    "REPO_ID = \"h94/IP-Adapter\" #@param {type:\"string\"}\n",
    "ALLOW_PATTERNS = [ \"*.safetensors\" ]\n",
    "LOCAL_DIR = None\n",
    "if IS_USE_GOOGLE_DRIVE == 0:\n",
    "    LOCAL_DIR = \"/workspace/ComfyUI/custom_nodes/ComfyUI_IPAdapter_plus/models\"\n",
    "\n",
    "from huggingface_hub import snapshot_download\n",
    "filePath = snapshot_download(repo_id=REPO_ID, allow_patterns=ALLOW_PATTERNS, cache_dir=CACHE_DIR, local_dir=LOCAL_DIR)\n",
    "print(filePath)"
   ]
  },
  {
   "cell_type": "markdown",
   "metadata": {},
   "source": [
    "#### Use IP-Adapter, require move image_encoders to `ComfyUI/models/clip_vision/`"
   ]
  },
  {
   "cell_type": "code",
   "execution_count": null,
   "metadata": {},
   "outputs": [],
   "source": [
    "if IS_USE_GOOGLE_DRIVE == 0:\n",
    "    %cd /workspace/ComfyUI/models/clip_vision\n",
    "    !mkdir sd1.5\n",
    "    !mkdir sdxl\n",
    "    %cd /workspace/ComfyUI/custom_nodes/ComfyUI_IPAdapter_plus/models/models/image_encoder\n",
    "    !mv model.safetensors /workspace/ComfyUI/models/clip_vision/sd1.5/\n",
    "\n",
    "    %cd /workspace/ComfyUI/custom_nodes/ComfyUI_IPAdapter_plus/models/sdxl_models/image_encoder\n",
    "    !mv model.safetensors /workspace/ComfyUI/models/clip_vision/sdxl/\n",
    "\n",
    "    !echo \"move image_encoder files success!!\"\n",
    "else:\n",
    "    !echo \"hello google drive\""
   ]
  }
 ],
 "metadata": {
  "kernelspec": {
   "display_name": "Python 3 (ipykernel)",
   "language": "python",
   "name": "python3"
  },
  "language_info": {
   "codemirror_mode": {
    "name": "ipython",
    "version": 3
   },
   "file_extension": ".py",
   "mimetype": "text/x-python",
   "name": "python",
   "nbconvert_exporter": "python",
   "pygments_lexer": "ipython3",
   "version": "3.10.11"
  }
 },
 "nbformat": 4,
 "nbformat_minor": 5
}
